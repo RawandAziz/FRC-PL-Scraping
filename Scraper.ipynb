{
 "cells": [
  {
   "cell_type": "markdown",
   "id": "1bffb5cd",
   "metadata": {},
   "source": [
    "# The Scraper"
   ]
  },
  {
   "cell_type": "code",
   "execution_count": 8,
   "id": "28129c52",
   "metadata": {},
   "outputs": [],
   "source": [
    "import requests\n",
    "from bs4 import BeautifulSoup\n",
    "import pandas as pd\n",
    "import datetime\n",
    "import tqdm\n",
    "from concurrent.futures import ThreadPoolExecutor"
   ]
  },
  {
   "cell_type": "code",
   "execution_count": 9,
   "id": "b4741106",
   "metadata": {},
   "outputs": [],
   "source": [
    "headers = {'User-Agent': 'Mozilla/5.0 (Windows NT 6.1) AppleWebKit/537.36 (KHTML, like Gecko) Chrome/41.0.2228.0 Safari/537.3'}\n",
    "base_url = 'https://coindb-prod.ocean.icm.edu.pl/AFE_PL/show_coin?coin_id='\n",
    "start_id = 47\n",
    "end_id = 42968"
   ]
  },
  {
   "cell_type": "code",
   "execution_count": 10,
   "id": "2dfc2eea",
   "metadata": {},
   "outputs": [],
   "source": [
    "def parse_coin_html_page(soup: BeautifulSoup, coin_id: int, link: str) -> dict:\n",
    "    coin_info = {}\n",
    "    coin_info[\"find_id\"] = coin_id\n",
    "\n",
    "    css_selectors = {\n",
    "        \"admin_division\": \"#container > table > tbody > tr:nth-child(1) > td:nth-child(2) > input[type=text]\",\n",
    "        \"place\": \"#container > table > tbody > tr:nth-child(2) > td:nth-child(2) > input[type=text]\",\n",
    "        \"period\": \"#container > table > tbody > tr:nth-child(4) > td:nth-child(2) > input[type=text]\",\n",
    "        \"denomination\": \"#container > table > tbody > tr:nth-child(5) > td:nth-child(2) > input[type=text]\",\n",
    "        \"material\": \"#container > table > tbody > tr:nth-child(6) > td:nth-child(2) > input[type=text]\",\n",
    "        \"issuer\": \"#container > table > tbody > tr:nth-child(7) > td:nth-child(2) > input[type=text]\",\n",
    "        \"mint\": \"#container > table > tbody > tr:nth-child(11) > td:nth-child(2) > input[type=text]\",\n",
    "        \"start_year\": \"#date_from\",\n",
    "        \"end_year\": \"#date_to\",\n",
    "    }\n",
    "\n",
    "    for key, selector in css_selectors.items():\n",
    "        coin_info[key] = soup.select_one(selector).get(\"value\")\n",
    "    \n",
    "    coin_info[\"imported\"] = datetime.date.today().strftime(\"%d/%m/%Y\")\n",
    "    coin_info[\"owner\"] = \"FRC-PL\"\n",
    "    coin_info[\"reference\"] = link\n",
    "\n",
    "    return coin_info"
   ]
  },
  {
   "cell_type": "code",
   "execution_count": 11,
   "id": "54906ada",
   "metadata": {},
   "outputs": [],
   "source": [
    "def get_coin_info(coin_id: int):\n",
    "    url = base_url + str(coin_id)\n",
    "    r = requests.get(url, headers=headers)\n",
    "    soup = BeautifulSoup(r.text, \"html.parser\")\n",
    "    return parse_coin_html_page(soup, coin_id, url)"
   ]
  },
  {
   "cell_type": "code",
   "execution_count": 12,
   "id": "d38f2589",
   "metadata": {},
   "outputs": [],
   "source": [
    "def safe_get_coin_info(coin_id: int):\n",
    "    try:\n",
    "        return get_coin_info(coin_id)\n",
    "    except Exception as e:\n",
    "        return {}"
   ]
  },
  {
   "cell_type": "code",
   "execution_count": 13,
   "id": "1ecccb94",
   "metadata": {},
   "outputs": [
    {
     "name": "stderr",
     "output_type": "stream",
     "text": [
      "100%|██████████| 42922/42922 [31:30<00:00, 22.70it/s]  \n"
     ]
    }
   ],
   "source": [
    "# multithread the process with tqdm progress bar\n",
    "with ThreadPoolExecutor(max_workers=16) as executor:\n",
    "    coins_info = list(\n",
    "        tqdm.tqdm(\n",
    "            executor.map(safe_get_coin_info, range(start_id, end_id + 1)),\n",
    "            total=end_id - start_id + 1,\n",
    "        )\n",
    "    )"
   ]
  },
  {
   "cell_type": "code",
   "execution_count": 14,
   "id": "397dff52",
   "metadata": {},
   "outputs": [],
   "source": [
    "# remove empty dicts\n",
    "coins_info = [coin_info for coin_info in coins_info if coin_info]\n",
    "pd.DataFrame(coins_info).to_csv(\"coins.csv\", index=False, encoding=\"utf-8\")"
   ]
  }
 ],
 "metadata": {
  "kernelspec": {
   "display_name": "Python 3 (ipykernel)",
   "language": "python",
   "name": "python3"
  },
  "language_info": {
   "codemirror_mode": {
    "name": "ipython",
    "version": 3
   },
   "file_extension": ".py",
   "mimetype": "text/x-python",
   "name": "python",
   "nbconvert_exporter": "python",
   "pygments_lexer": "ipython3",
   "version": "3.9.13"
  }
 },
 "nbformat": 4,
 "nbformat_minor": 5
}
